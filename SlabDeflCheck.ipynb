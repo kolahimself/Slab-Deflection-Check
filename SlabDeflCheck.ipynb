{
 "cells": [
  {
   "cell_type": "markdown",
   "id": "f29eff95-6a48-429c-9256-93733e1a2354",
   "metadata": {},
   "source": [
    "# Slab Deflection Check to EC2\n",
    "\n",
    "Quick tool for checking deflection in continous one-way or two-way slabs.\n",
    "\n",
    "Author: James Ojoawo"
   ]
  },
  {
   "cell_type": "code",
   "execution_count": 1,
   "id": "72c75519-d3d0-40a4-9780-646357b25371",
   "metadata": {
    "jupyter": {
     "source_hidden": true
    },
    "tags": []
   },
   "outputs": [],
   "source": [
    "# Utilities\n",
    "from ipywidgets import widgets\n",
    "import numpy as np"
   ]
  },
  {
   "cell_type": "markdown",
   "id": "c17b639f-77d7-476a-9b16-93832429e180",
   "metadata": {},
   "source": [
    "## Effective Depth\n",
    "\n",
    "Supply the effective depth of the slab in mm."
   ]
  },
  {
   "cell_type": "code",
   "execution_count": 2,
   "id": "dccd31dc-5a05-44ba-b154-01699fc867a1",
   "metadata": {
    "jupyter": {
     "source_hidden": true
    },
    "tags": []
   },
   "outputs": [
    {
     "data": {
      "application/vnd.jupyter.widget-view+json": {
       "model_id": "96e450ccb5c343cb95f58af68a335260",
       "version_major": 2,
       "version_minor": 0
      },
      "text/plain": [
       "BoundedFloatText(value=0.0, max=1000.0)"
      ]
     },
     "metadata": {},
     "output_type": "display_data"
    }
   ],
   "source": [
    "eff_depth = widgets.BoundedFloatText(min=0, max=1000)\n",
    "display(eff_depth)"
   ]
  },
  {
   "cell_type": "markdown",
   "id": "71334d6e-e3c7-4d6f-9ea2-853c790ce8c3",
   "metadata": {},
   "source": [
    "## Area of Steel Required\n",
    "\n",
    "Supply the area of steel required in mm per meter square."
   ]
  },
  {
   "cell_type": "code",
   "execution_count": 3,
   "id": "dae927b7-c05b-4054-9f16-611dc2cfc3e8",
   "metadata": {
    "jupyter": {
     "source_hidden": true
    },
    "tags": []
   },
   "outputs": [
    {
     "data": {
      "application/vnd.jupyter.widget-view+json": {
       "model_id": "2cf3115bfd2b4a8f8bddcea9737b2d14",
       "version_major": 2,
       "version_minor": 0
      },
      "text/plain": [
       "BoundedFloatText(value=0.0, max=7000.0)"
      ]
     },
     "metadata": {},
     "output_type": "display_data"
    }
   ],
   "source": [
    "ast_required = widgets.BoundedFloatText(min=0, max=7000)\n",
    "display(ast_required)"
   ]
  },
  {
   "cell_type": "markdown",
   "id": "5e30a5e6-f9fd-46fb-a27f-2fc16a59e612",
   "metadata": {},
   "source": [
    "## Area of Steel Provided\n",
    "\n",
    "Supply the area of steel provided in mm per meter square."
   ]
  },
  {
   "cell_type": "code",
   "execution_count": 4,
   "id": "ab78f3ed-0c92-4fac-bc48-a8c5ca9189a3",
   "metadata": {
    "jupyter": {
     "source_hidden": true
    },
    "tags": []
   },
   "outputs": [
    {
     "data": {
      "application/vnd.jupyter.widget-view+json": {
       "model_id": "1b43a0880e634412a64be7eef8ed001e",
       "version_major": 2,
       "version_minor": 0
      },
      "text/plain": [
       "BoundedFloatText(value=0.0, max=7000.0)"
      ]
     },
     "metadata": {},
     "output_type": "display_data"
    }
   ],
   "source": [
    "ast_provided = widgets.BoundedFloatText(min=0, max=7000)\n",
    "display(ast_provided)"
   ]
  },
  {
   "cell_type": "markdown",
   "id": "3495b454-df77-45ca-9a7b-fd81beb29913",
   "metadata": {},
   "source": [
    "## Slab Span\n",
    "\n",
    "Supply the span of the slab in mm"
   ]
  },
  {
   "cell_type": "code",
   "execution_count": 5,
   "id": "ff9cfdbd-37ce-4c9c-b972-5ed8c126d460",
   "metadata": {
    "jupyter": {
     "source_hidden": true
    },
    "tags": []
   },
   "outputs": [
    {
     "data": {
      "application/vnd.jupyter.widget-view+json": {
       "model_id": "3fbdba5bb7044ece98acd4619497b6a4",
       "version_major": 2,
       "version_minor": 0
      },
      "text/plain": [
       "BoundedFloatText(value=0.0, max=100000000.0)"
      ]
     },
     "metadata": {},
     "output_type": "display_data"
    }
   ],
   "source": [
    "span = widgets.BoundedFloatText(min=0, max=100000000)\n",
    "display(span)"
   ]
  },
  {
   "cell_type": "markdown",
   "id": "67caa669-a180-43a0-b2bf-e545e9bf55f2",
   "metadata": {},
   "source": [
    "## Steel Strength\n",
    "\n",
    "Supply the steel strength in N/mm2"
   ]
  },
  {
   "cell_type": "code",
   "execution_count": 6,
   "id": "52295d2a-b3e4-45bc-a4fb-bf249dac3c3a",
   "metadata": {
    "jupyter": {
     "source_hidden": true
    },
    "tags": []
   },
   "outputs": [
    {
     "data": {
      "application/vnd.jupyter.widget-view+json": {
       "model_id": "4266c30dfd764caea3819c409bf7cd68",
       "version_major": 2,
       "version_minor": 0
      },
      "text/plain": [
       "BoundedFloatText(value=380.0, max=600.0, min=380.0)"
      ]
     },
     "metadata": {},
     "output_type": "display_data"
    }
   ],
   "source": [
    "f_y = widgets.BoundedFloatText(min=380, max=600)\n",
    "display(f_y)"
   ]
  },
  {
   "cell_type": "markdown",
   "id": "730eab5e-0155-49ca-ad31-b5481aae9879",
   "metadata": {},
   "source": [
    "## Allowable Span-to-depth Ratio\n",
    "\n",
    "Supply the allowable span to depth ratio of the structure"
   ]
  },
  {
   "cell_type": "code",
   "execution_count": 7,
   "id": "262e54c9-b8d3-47ef-a5e1-193476e0b929",
   "metadata": {
    "jupyter": {
     "source_hidden": true
    },
    "tags": []
   },
   "outputs": [
    {
     "data": {
      "application/vnd.jupyter.widget-view+json": {
       "model_id": "23804e795c2e4f71b8ed93d6f720d4d5",
       "version_major": 2,
       "version_minor": 0
      },
      "text/plain": [
       "BoundedFloatText(value=6.0, max=30.0, min=6.0)"
      ]
     },
     "metadata": {},
     "output_type": "display_data"
    }
   ],
   "source": [
    "allowable_s_d = widgets.BoundedFloatText(min=6, max=30)\n",
    "display(allowable_s_d)"
   ]
  },
  {
   "cell_type": "markdown",
   "id": "d52b59db-9dfe-4246-b65f-80947bc8b2d0",
   "metadata": {},
   "source": [
    "## Maximum Moment\n",
    "\n",
    "Supply the maximum bending moment of the slab span in kN.m"
   ]
  },
  {
   "cell_type": "code",
   "execution_count": 8,
   "id": "12114c5d-19c6-4e65-bdb0-7e98d2abc37e",
   "metadata": {
    "jupyter": {
     "source_hidden": true
    },
    "tags": []
   },
   "outputs": [
    {
     "data": {
      "application/vnd.jupyter.widget-view+json": {
       "model_id": "43000486cb1943928a00b5094766cba1",
       "version_major": 2,
       "version_minor": 0
      },
      "text/plain": [
       "BoundedFloatText(value=0.0, max=70000000000.0)"
      ]
     },
     "metadata": {},
     "output_type": "display_data"
    }
   ],
   "source": [
    "moment = widgets.BoundedFloatText(min=0, max=70000000000)\n",
    "display(moment)"
   ]
  },
  {
   "cell_type": "markdown",
   "id": "2d09279c-f9ad-4afc-980b-912c067f4f57",
   "metadata": {},
   "source": [
    "## Calc 1: Service stress\n",
    "\n",
    "Service Stress, $f_s = \\frac{2f_yA_sreq}{3A_sprov\\beta}$ "
   ]
  },
  {
   "cell_type": "code",
   "execution_count": 9,
   "id": "2cee325b-a2be-4cfa-bfff-38da9c9f422c",
   "metadata": {
    "jupyter": {
     "source_hidden": true
    },
    "tags": []
   },
   "outputs": [
    {
     "name": "stdout",
     "output_type": "stream",
     "text": [
      "Service stress = 229.27N/mm2\n"
     ]
    }
   ],
   "source": [
    "# Service stress\n",
    "f_s = (2 * f_y.value * ast_required.value) / (3 * ast_provided.value) * 1\n",
    "print(f\"Service stress = {np.round(f_s, 2)}N/mm2\")"
   ]
  },
  {
   "cell_type": "markdown",
   "id": "27b3ecdc-7329-488b-892d-c9a297945c8d",
   "metadata": {},
   "source": [
    "## Calc 2: Bending stress\n",
    "\n",
    "Bending stress $=\\frac{M}{bd^2}$"
   ]
  },
  {
   "cell_type": "code",
   "execution_count": 10,
   "id": "f4943fa8-67c2-48c9-8ad0-a8c99983909a",
   "metadata": {
    "jupyter": {
     "source_hidden": true
    },
    "tags": []
   },
   "outputs": [
    {
     "name": "stdout",
     "output_type": "stream",
     "text": [
      "Bending stress = 1.77N/mm2\n"
     ]
    }
   ],
   "source": [
    "# Bending stress\n",
    "bending_stress = (moment.value * 1000000) / (1000 * np.square(eff_depth.value))\n",
    "print(f\"Bending stress = {np.round(bending_stress, 2)}N/mm2\")"
   ]
  },
  {
   "cell_type": "markdown",
   "id": "c415159f-200c-4911-a79a-5e8a25c7d064",
   "metadata": {},
   "source": [
    "## Calc 3: Modification factor\n",
    "\n",
    "Modification factor, $M_f = 0.55 + \\frac{477 - f_s}{120(0.9 + \\frac{M}{bd^2})}$"
   ]
  },
  {
   "cell_type": "code",
   "execution_count": 11,
   "id": "8a83c072-ece6-4837-a9cf-f231260ada06",
   "metadata": {
    "jupyter": {
     "source_hidden": true
    },
    "tags": []
   },
   "outputs": [
    {
     "name": "stdout",
     "output_type": "stream",
     "text": [
      "Modification factor = 1.32\n"
     ]
    }
   ],
   "source": [
    "# Modification factor\n",
    "m_f = 0.55 + ((477 - f_s) / (120 * (0.9 + bending_stress)))\n",
    "print(f\"Modification factor = {np.round(m_f, 2)}\")"
   ]
  },
  {
   "cell_type": "code",
   "execution_count": 12,
   "id": "5b551064-9624-4051-b3e6-3ae350b42855",
   "metadata": {
    "jupyter": {
     "source_hidden": true
    },
    "tags": []
   },
   "outputs": [
    {
     "name": "stdout",
     "output_type": "stream",
     "text": [
      "modificaiton factor is < 2, OK✅\n"
     ]
    }
   ],
   "source": [
    "# Modification factor check\n",
    "if m_f <= 2:\n",
    "    print(f\"modificaiton factor is < 2, OK✅\")\n",
    "    \n",
    "else:\n",
    "    print(f\"modification factor is > 2, 😑\")\n",
    "    m_f = 2"
   ]
  },
  {
   "cell_type": "markdown",
   "id": "bcc1e295-b5c0-4a09-92a2-a1c398962b49",
   "metadata": {},
   "source": [
    "## Calc 4: Allowable span-depth ratio"
   ]
  },
  {
   "cell_type": "code",
   "execution_count": 14,
   "id": "959ff8a6-6767-45d0-8916-76c794fbde79",
   "metadata": {
    "jupyter": {
     "source_hidden": true
    },
    "tags": []
   },
   "outputs": [
    {
     "name": "stdout",
     "output_type": "stream",
     "text": [
      "Allowable span-depth ratio = 24.0 x 1.32 = 32.0\n"
     ]
    }
   ],
   "source": [
    "allowable_sd_ratio = allowable_s_d.value * m_f\n",
    "\n",
    "# Display\n",
    "print(f\"Allowable span-depth ratio = {np.round(allowable_s_d.value, 2)} x {np.round(m_f, 2)} = {np.round(allowable_sd_ratio)}\")"
   ]
  },
  {
   "cell_type": "markdown",
   "id": "01006eb6-7215-4899-abea-bdf2c4c30fe7",
   "metadata": {},
   "source": [
    "## Calc 5: Actual Span to depth ratio"
   ]
  },
  {
   "cell_type": "code",
   "execution_count": 15,
   "id": "6ce53495-3d6d-4098-b874-e4273f8cbbdb",
   "metadata": {
    "jupyter": {
     "source_hidden": true
    },
    "tags": []
   },
   "outputs": [
    {
     "name": "stdout",
     "output_type": "stream",
     "text": [
      "Actual span-depth ratio = 3900.0mm / 124.0mm = 31.0\n"
     ]
    }
   ],
   "source": [
    "actual_s_d = span.value / eff_depth.value\n",
    "\n",
    "# Display\n",
    "print(f\"Actual span-depth ratio = {np.round(span.value, 2)}mm / {np.round(eff_depth.value, 2)}mm = {np.round(actual_s_d)}\")"
   ]
  },
  {
   "cell_type": "markdown",
   "id": "8f6353df-5e09-4b98-a212-6799f181afb0",
   "metadata": {},
   "source": [
    "## Deflection Check"
   ]
  },
  {
   "cell_type": "code",
   "execution_count": 16,
   "id": "b299ee44-64df-4156-b380-b828003a81fc",
   "metadata": {
    "jupyter": {
     "source_hidden": true
    },
    "tags": []
   },
   "outputs": [
    {
     "name": "stdout",
     "output_type": "stream",
     "text": [
      "Allowable span-depth ratio > Actual span-depth ratio (31.7860884476848 > 31.451612903225808). Deflection is satisfactory✅\n"
     ]
    }
   ],
   "source": [
    "if allowable_sd_ratio > actual_s_d:\n",
    "    print(f\"Allowable span-depth ratio > Actual span-depth ratio ({allowable_sd_ratio} > {actual_s_d}). Deflection is satisfactory✅\")\n",
    "else:\n",
    "    print(f\"Allowable span-depth ratio < Actual span-depth ratio ({allowable_sd_ratio} < {actual_s_d}). Deflection is unsatisfactory❌\")"
   ]
  },
  {
   "cell_type": "code",
   "execution_count": null,
   "id": "64ccb42f-fb2f-423c-a65c-8151dd4e25d9",
   "metadata": {},
   "outputs": [],
   "source": []
  }
 ],
 "metadata": {
  "kernelspec": {
   "display_name": "Python 3 (ipykernel)",
   "language": "python",
   "name": "python3"
  },
  "language_info": {
   "codemirror_mode": {
    "name": "ipython",
    "version": 3
   },
   "file_extension": ".py",
   "mimetype": "text/x-python",
   "name": "python",
   "nbconvert_exporter": "python",
   "pygments_lexer": "ipython3",
   "version": "3.10.4"
  }
 },
 "nbformat": 4,
 "nbformat_minor": 5
}
